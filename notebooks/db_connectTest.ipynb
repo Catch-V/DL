{
 "cells": [
  {
   "cell_type": "code",
   "execution_count": 1,
   "metadata": {
    "collapsed": true
   },
   "outputs": [],
   "source": [
    "import os\n",
    "import pandas as pd\n",
    "\n",
    "from src.conn_db.conn import Conn"
   ]
  },
  {
   "cell_type": "code",
   "execution_count": 2,
   "outputs": [],
   "source": [
    "cleandata = \"C:\\\\Users\\\\mike0\\\\github\\\\CleanData\""
   ],
   "metadata": {
    "collapsed": false
   }
  },
  {
   "cell_type": "code",
   "execution_count": 3,
   "outputs": [],
   "source": [
    "PATH = os.path.join(cleandata, \"result\", \"answer.csv\")\n",
    "df_result = pd.read_csv(PATH)"
   ],
   "metadata": {
    "collapsed": false
   }
  },
  {
   "cell_type": "code",
   "execution_count": 4,
   "outputs": [],
   "source": [
    "result = df_result.dropna(axis=0)\n",
    "list_client = [x for x in result.id.unique() if x not in \"@\"]\n",
    "pro_actor = [x for x in result.id.unique() if x not in \"@\"]"
   ],
   "metadata": {
    "collapsed": false
   }
  },
  {
   "cell_type": "code",
   "execution_count": 5,
   "outputs": [
    {
     "data": {
      "text/plain": "                                          link upload_date  pro_actor  \\\n0  https://www.youtube.com/watch?v=fUjuy3xASDc  2022-08-01       True   \n1  https://www.youtube.com/watch?v=JlbEULIZ_Ik  2022-07-01       True   \n2            https://youtu.be/DFkXkF3W_Wo?t=59  2022-07-01      False   \n3  https://www.youtube.com/watch?v=_GPN_xkf0aA  2022-08-01       True   \n4                 https://youtu.be/emG1ooM8xh0  2022-08-01      False   \n\n   total_len                     id             answer  \n0        593            Eimi_Fukada        eimi_fukada  \n1        241   shimiken@yahoo.co.jp        Ken Shimizu  \n2        461      charles@gmail.com  charles@gamil.com  \n3        170  Meguri_(Mugu_Fujiura)        Meg_Fujiura  \n4        338      rockeee@gmail.com  rockeee@gmail.com  ",
      "text/html": "<div>\n<style scoped>\n    .dataframe tbody tr th:only-of-type {\n        vertical-align: middle;\n    }\n\n    .dataframe tbody tr th {\n        vertical-align: top;\n    }\n\n    .dataframe thead th {\n        text-align: right;\n    }\n</style>\n<table border=\"1\" class=\"dataframe\">\n  <thead>\n    <tr style=\"text-align: right;\">\n      <th></th>\n      <th>link</th>\n      <th>upload_date</th>\n      <th>pro_actor</th>\n      <th>total_len</th>\n      <th>id</th>\n      <th>answer</th>\n    </tr>\n  </thead>\n  <tbody>\n    <tr>\n      <th>0</th>\n      <td>https://www.youtube.com/watch?v=fUjuy3xASDc</td>\n      <td>2022-08-01</td>\n      <td>True</td>\n      <td>593</td>\n      <td>Eimi_Fukada</td>\n      <td>eimi_fukada</td>\n    </tr>\n    <tr>\n      <th>1</th>\n      <td>https://www.youtube.com/watch?v=JlbEULIZ_Ik</td>\n      <td>2022-07-01</td>\n      <td>True</td>\n      <td>241</td>\n      <td>shimiken@yahoo.co.jp</td>\n      <td>Ken Shimizu</td>\n    </tr>\n    <tr>\n      <th>2</th>\n      <td>https://youtu.be/DFkXkF3W_Wo?t=59</td>\n      <td>2022-07-01</td>\n      <td>False</td>\n      <td>461</td>\n      <td>charles@gmail.com</td>\n      <td>charles@gamil.com</td>\n    </tr>\n    <tr>\n      <th>3</th>\n      <td>https://www.youtube.com/watch?v=_GPN_xkf0aA</td>\n      <td>2022-08-01</td>\n      <td>True</td>\n      <td>170</td>\n      <td>Meguri_(Mugu_Fujiura)</td>\n      <td>Meg_Fujiura</td>\n    </tr>\n    <tr>\n      <th>4</th>\n      <td>https://youtu.be/emG1ooM8xh0</td>\n      <td>2022-08-01</td>\n      <td>False</td>\n      <td>338</td>\n      <td>rockeee@gmail.com</td>\n      <td>rockeee@gmail.com</td>\n    </tr>\n  </tbody>\n</table>\n</div>"
     },
     "execution_count": 5,
     "metadata": {},
     "output_type": "execute_result"
    }
   ],
   "source": [
    "result.head()"
   ],
   "metadata": {
    "collapsed": false
   }
  },
  {
   "cell_type": "code",
   "execution_count": 6,
   "outputs": [
    {
     "data": {
      "text/plain": "                                link upload_date  pro_actor  total_len  \\\n2  https://youtu.be/DFkXkF3W_Wo?t=59  2022-07-01      False        461   \n8  https://youtu.be/wgltybkxHEA?t=15  2022-09-01      False        461   \n\n                  id             answer  \n2  charles@gmail.com  charles@gamil.com  \n8  charles@gmail.com  charles@gamil.com  ",
      "text/html": "<div>\n<style scoped>\n    .dataframe tbody tr th:only-of-type {\n        vertical-align: middle;\n    }\n\n    .dataframe tbody tr th {\n        vertical-align: top;\n    }\n\n    .dataframe thead th {\n        text-align: right;\n    }\n</style>\n<table border=\"1\" class=\"dataframe\">\n  <thead>\n    <tr style=\"text-align: right;\">\n      <th></th>\n      <th>link</th>\n      <th>upload_date</th>\n      <th>pro_actor</th>\n      <th>total_len</th>\n      <th>id</th>\n      <th>answer</th>\n    </tr>\n  </thead>\n  <tbody>\n    <tr>\n      <th>2</th>\n      <td>https://youtu.be/DFkXkF3W_Wo?t=59</td>\n      <td>2022-07-01</td>\n      <td>False</td>\n      <td>461</td>\n      <td>charles@gmail.com</td>\n      <td>charles@gamil.com</td>\n    </tr>\n    <tr>\n      <th>8</th>\n      <td>https://youtu.be/wgltybkxHEA?t=15</td>\n      <td>2022-09-01</td>\n      <td>False</td>\n      <td>461</td>\n      <td>charles@gmail.com</td>\n      <td>charles@gamil.com</td>\n    </tr>\n  </tbody>\n</table>\n</div>"
     },
     "execution_count": 6,
     "metadata": {},
     "output_type": "execute_result"
    }
   ],
   "source": [
    "result.loc[result['id']=='charles@gmail.com']"
   ],
   "metadata": {
    "collapsed": false
   }
  },
  {
   "cell_type": "code",
   "execution_count": 40,
   "outputs": [],
   "source": [
    "def df2dict(dataframe, target):\n",
    "    ans = {}\n",
    "    df1 = dataframe.loc[result['id']==target]\n",
    "    urls = [url for url in df1['link']]\n",
    "    ans['id'] = 0\n",
    "    ans['videoCount'] = len(dataframe)\n",
    "    ans['detectCount'] = len(df1)\n",
    "    ans['userEmail'] = target\n",
    "    ans['urlList'] = str(urls)\n",
    "    return ans"
   ],
   "metadata": {
    "collapsed": false
   }
  },
  {
   "cell_type": "code",
   "execution_count": 41,
   "outputs": [
    {
     "data": {
      "text/plain": "{'id': 0,\n 'videoCount': 8,\n 'detectCount': 2,\n 'userEmail': 'charles@gmail.com',\n 'urlList': \"['https://youtu.be/DFkXkF3W_Wo?t=59', 'https://youtu.be/wgltybkxHEA?t=15']\"}"
     },
     "execution_count": 41,
     "metadata": {},
     "output_type": "execute_result"
    }
   ],
   "source": [
    "data = df2dict(dataframe=result, target='charles@gmail.com')\n",
    "data"
   ],
   "metadata": {
    "collapsed": false
   }
  },
  {
   "cell_type": "code",
   "execution_count": 49,
   "outputs": [],
   "source": [
    "target = pd.DataFrame(data=data, index=[0]) #"
   ],
   "metadata": {
    "collapsed": false
   }
  },
  {
   "cell_type": "code",
   "execution_count": 50,
   "outputs": [
    {
     "data": {
      "text/plain": "pandas.core.series.Series"
     },
     "execution_count": 50,
     "metadata": {},
     "output_type": "execute_result"
    }
   ],
   "source": [
    "type(target['userEmail'])"
   ],
   "metadata": {
    "collapsed": false
   }
  },
  {
   "cell_type": "code",
   "execution_count": 51,
   "outputs": [],
   "source": [
    "conn1 = Conn('root', 'root')"
   ],
   "metadata": {
    "collapsed": false
   }
  },
  {
   "cell_type": "code",
   "execution_count": 52,
   "outputs": [],
   "source": [
    "conn1.df2resultdata(target)"
   ],
   "metadata": {
    "collapsed": false
   }
  },
  {
   "cell_type": "code",
   "execution_count": 23,
   "outputs": [],
   "source": [
    "user = {'id':0,'userEmail':'charles@gmail.com', 'userPassword': '12345678!', \"loginstatus\":0}"
   ],
   "metadata": {
    "collapsed": false
   }
  },
  {
   "cell_type": "code",
   "execution_count": 24,
   "outputs": [
    {
     "data": {
      "text/plain": "{'id': 0,\n 'userEmail': 'charles@gmail.com',\n 'userPassword': '12345678!',\n 'loginstatus': 0}"
     },
     "execution_count": 24,
     "metadata": {},
     "output_type": "execute_result"
    }
   ],
   "source": [
    "user"
   ],
   "metadata": {
    "collapsed": false
   }
  },
  {
   "cell_type": "code",
   "execution_count": 24,
   "outputs": [],
   "source": [
    "user_df = pd.DataFrame(data=user,index=[0])"
   ],
   "metadata": {
    "collapsed": false
   }
  },
  {
   "cell_type": "code",
   "execution_count": 31,
   "outputs": [
    {
     "data": {
      "text/plain": "   id          userEmail userPassword  loginstatus\n0   0  charles@gmail.com    12345678!            0",
      "text/html": "<div>\n<style scoped>\n    .dataframe tbody tr th:only-of-type {\n        vertical-align: middle;\n    }\n\n    .dataframe tbody tr th {\n        vertical-align: top;\n    }\n\n    .dataframe thead th {\n        text-align: right;\n    }\n</style>\n<table border=\"1\" class=\"dataframe\">\n  <thead>\n    <tr style=\"text-align: right;\">\n      <th></th>\n      <th>id</th>\n      <th>userEmail</th>\n      <th>userPassword</th>\n      <th>loginstatus</th>\n    </tr>\n  </thead>\n  <tbody>\n    <tr>\n      <th>0</th>\n      <td>0</td>\n      <td>charles@gmail.com</td>\n      <td>12345678!</td>\n      <td>0</td>\n    </tr>\n  </tbody>\n</table>\n</div>"
     },
     "execution_count": 31,
     "metadata": {},
     "output_type": "execute_result"
    }
   ],
   "source": [
    "user_df"
   ],
   "metadata": {
    "collapsed": false
   }
  },
  {
   "cell_type": "code",
   "execution_count": 25,
   "outputs": [
    {
     "data": {
      "text/plain": "True"
     },
     "execution_count": 25,
     "metadata": {},
     "output_type": "execute_result"
    }
   ],
   "source": [
    "conn1.df2user(user_df)"
   ],
   "metadata": {
    "collapsed": false
   }
  },
  {
   "cell_type": "code",
   "execution_count": 47,
   "outputs": [],
   "source": [
    "del Conn"
   ],
   "metadata": {
    "collapsed": false
   }
  },
  {
   "cell_type": "code",
   "execution_count": null,
   "outputs": [],
   "source": [],
   "metadata": {
    "collapsed": false
   }
  }
 ],
 "metadata": {
  "kernelspec": {
   "display_name": "Python 3",
   "language": "python",
   "name": "python3"
  },
  "language_info": {
   "codemirror_mode": {
    "name": "ipython",
    "version": 2
   },
   "file_extension": ".py",
   "mimetype": "text/x-python",
   "name": "python",
   "nbconvert_exporter": "python",
   "pygments_lexer": "ipython2",
   "version": "2.7.6"
  }
 },
 "nbformat": 4,
 "nbformat_minor": 0
}
