{
 "cells": [
  {
   "cell_type": "code",
   "execution_count": 15,
   "metadata": {},
   "outputs": [],
   "source": [
    "import pyautogui\n",
    "import numpy as np\n",
    "import pandas as pd\n",
    "import cv2 as cv\n",
    "from easydict import EasyDict\n",
    "import sys"
   ]
  },
  {
   "cell_type": "code",
   "execution_count": 13,
   "metadata": {},
   "outputs": [],
   "source": [
    "from selenium import webdriver\n",
    "from selenium.webdriver.common.by import By\n",
    "from selenium.webdriver.support.ui import WebDriverWait\n",
    "from selenium.webdriver.support import expected_conditions as EC\n",
    "import pandas as pd"
   ]
  },
  {
   "cell_type": "code",
   "execution_count": 14,
   "metadata": {},
   "outputs": [],
   "source": [
    "import os\n",
    "from time import sleep\n",
    "\n",
    "from selenium import webdriver\n",
    "from selenium.webdriver.common.keys import Keys\n",
    "from selenium.common.exceptions import NoSuchElementException\n",
    "from selenium.common.exceptions import ElementNotInteractableException\n",
    "from selenium.common.exceptions import StaleElementReferenceException\n",
    "from bs4 import BeautifulSoup\n",
    "\n",
    "##############################################################  ############\n",
    "##################### variable related selenium ##########################\n",
    "##########################################################################\n",
    "options = webdriver.ChromeOptions()\n",
    "options.add_argument('headless')\n",
    "options.add_argument('lang=ko_KR')\n",
    "chromedriver_path = \"./chromedriver\"\n",
    "# driver = webdriver.Chrome(os.path.join(os.getcwd(), chromedriver_path), options=options)  # chromedriver 열기"
   ]
  },
  {
   "cell_type": "code",
   "execution_count": 7,
   "metadata": {},
   "outputs": [],
   "source": [
    "df_youtube = pd.read_csv(\"./testURL_youtube.csv\")"
   ]
  },
  {
   "cell_type": "code",
   "execution_count": 8,
   "metadata": {},
   "outputs": [],
   "source": [
    "def toDatetime(df):\n",
    "    df['upload_date']= pd.to_datetime(df['upload_date'], format=\"%Y%m\")\n",
    "    return df"
   ]
  },
  {
   "cell_type": "code",
   "execution_count": 10,
   "metadata": {},
   "outputs": [
    {
     "data": {
      "text/html": [
       "<div>\n",
       "<style scoped>\n",
       "    .dataframe tbody tr th:only-of-type {\n",
       "        vertical-align: middle;\n",
       "    }\n",
       "\n",
       "    .dataframe tbody tr th {\n",
       "        vertical-align: top;\n",
       "    }\n",
       "\n",
       "    .dataframe thead th {\n",
       "        text-align: right;\n",
       "    }\n",
       "</style>\n",
       "<table border=\"1\" class=\"dataframe\">\n",
       "  <thead>\n",
       "    <tr style=\"text-align: right;\">\n",
       "      <th></th>\n",
       "      <th>link</th>\n",
       "      <th>upload_date</th>\n",
       "      <th>등장인물</th>\n",
       "    </tr>\n",
       "  </thead>\n",
       "  <tbody>\n",
       "    <tr>\n",
       "      <th>0</th>\n",
       "      <td>https://www.youtube.com/watch?v=fUjuy3xASDc</td>\n",
       "      <td>2022-08-01</td>\n",
       "      <td>eimi_fukada</td>\n",
       "    </tr>\n",
       "    <tr>\n",
       "      <th>1</th>\n",
       "      <td>https://www.youtube.com/watch?v=ZDh1C7qw0Rs</td>\n",
       "      <td>2020-10-01</td>\n",
       "      <td>NaN</td>\n",
       "    </tr>\n",
       "    <tr>\n",
       "      <th>2</th>\n",
       "      <td>https://www.youtube.com/watch?v=JlbEULIZ_Ik</td>\n",
       "      <td>2022-07-01</td>\n",
       "      <td>Ken Shimizu</td>\n",
       "    </tr>\n",
       "    <tr>\n",
       "      <th>3</th>\n",
       "      <td>https://www.youtube.com/watch?v=soHbTjekCs8</td>\n",
       "      <td>2018-10-01</td>\n",
       "      <td>낭만호구</td>\n",
       "    </tr>\n",
       "    <tr>\n",
       "      <th>4</th>\n",
       "      <td>https://www.youtube.com/watch?v=_GPN_xkf0aA</td>\n",
       "      <td>2022-08-01</td>\n",
       "      <td>Meg_Fujiura</td>\n",
       "    </tr>\n",
       "    <tr>\n",
       "      <th>5</th>\n",
       "      <td>https://www.youtube.com/watch?v=zqCPkdN5rik</td>\n",
       "      <td>2022-09-01</td>\n",
       "      <td>mikami_yua</td>\n",
       "    </tr>\n",
       "    <tr>\n",
       "      <th>6</th>\n",
       "      <td>https://www.youtube.com/watch?v=dQqVlUda25c&amp;t=...</td>\n",
       "      <td>2020-01-01</td>\n",
       "      <td>NaN</td>\n",
       "    </tr>\n",
       "    <tr>\n",
       "      <th>7</th>\n",
       "      <td>https://www.youtube.com/watch?v=1KjurNirq1I&amp;li...</td>\n",
       "      <td>2021-10-01</td>\n",
       "      <td>NaN</td>\n",
       "    </tr>\n",
       "    <tr>\n",
       "      <th>8</th>\n",
       "      <td>https://www.youtube.com/watch?v=e3PPRdxkAKs&amp;li...</td>\n",
       "      <td>2022-03-01</td>\n",
       "      <td>NaN</td>\n",
       "    </tr>\n",
       "    <tr>\n",
       "      <th>9</th>\n",
       "      <td>https://www.youtube.com/watch?v=_JYWIcvYA8Q&amp;li...</td>\n",
       "      <td>2022-09-01</td>\n",
       "      <td>다수인원등장</td>\n",
       "    </tr>\n",
       "    <tr>\n",
       "      <th>10</th>\n",
       "      <td>https://www.youtube.com/watch?v=cDUdX-RYuQg&amp;t=...</td>\n",
       "      <td>2019-10-01</td>\n",
       "      <td>NaN</td>\n",
       "    </tr>\n",
       "    <tr>\n",
       "      <th>11</th>\n",
       "      <td>https://www.youtube.com/watch?v=yvCP6_pXjAk</td>\n",
       "      <td>2022-07-01</td>\n",
       "      <td>정답영상</td>\n",
       "    </tr>\n",
       "    <tr>\n",
       "      <th>12</th>\n",
       "      <td>https://www.youtube.com/watch?v=llB_mu2Wz2g&amp;li...</td>\n",
       "      <td>2022-09-01</td>\n",
       "      <td>다수인원 등장</td>\n",
       "    </tr>\n",
       "    <tr>\n",
       "      <th>13</th>\n",
       "      <td>https://www.youtube.com/watch?v=l2s-xBVCss8</td>\n",
       "      <td>2021-07-01</td>\n",
       "      <td>NaN</td>\n",
       "    </tr>\n",
       "    <tr>\n",
       "      <th>14</th>\n",
       "      <td>https://www.youtube.com/watch?v=NShIwx-uzO4</td>\n",
       "      <td>2021-03-01</td>\n",
       "      <td>NaN</td>\n",
       "    </tr>\n",
       "    <tr>\n",
       "      <th>15</th>\n",
       "      <td>https://www.youtube.com/watch?v=eXDuKrw_FpA&amp;li...</td>\n",
       "      <td>2022-08-01</td>\n",
       "      <td>1시간 이상 영상</td>\n",
       "    </tr>\n",
       "    <tr>\n",
       "      <th>16</th>\n",
       "      <td>https://www.youtube.com/watch?v=_6yWBTnF3vU&amp;t=...</td>\n",
       "      <td>2022-07-01</td>\n",
       "      <td>NaN</td>\n",
       "    </tr>\n",
       "    <tr>\n",
       "      <th>17</th>\n",
       "      <td>https://www.youtube.com/watch?v=0p1DEMaAeCg</td>\n",
       "      <td>2021-10-01</td>\n",
       "      <td>NaN</td>\n",
       "    </tr>\n",
       "    <tr>\n",
       "      <th>18</th>\n",
       "      <td>https://www.youtube.com/watch?v=yvCP6_pXjAk</td>\n",
       "      <td>2022-08-01</td>\n",
       "      <td>정답영상</td>\n",
       "    </tr>\n",
       "  </tbody>\n",
       "</table>\n",
       "</div>"
      ],
      "text/plain": [
       "                                                 link upload_date         등장인물\n",
       "0         https://www.youtube.com/watch?v=fUjuy3xASDc  2022-08-01  eimi_fukada\n",
       "1         https://www.youtube.com/watch?v=ZDh1C7qw0Rs  2020-10-01          NaN\n",
       "2         https://www.youtube.com/watch?v=JlbEULIZ_Ik  2022-07-01  Ken Shimizu\n",
       "3         https://www.youtube.com/watch?v=soHbTjekCs8  2018-10-01         낭만호구\n",
       "4         https://www.youtube.com/watch?v=_GPN_xkf0aA  2022-08-01  Meg_Fujiura\n",
       "5         https://www.youtube.com/watch?v=zqCPkdN5rik  2022-09-01   mikami_yua\n",
       "6   https://www.youtube.com/watch?v=dQqVlUda25c&t=...  2020-01-01          NaN\n",
       "7   https://www.youtube.com/watch?v=1KjurNirq1I&li...  2021-10-01          NaN\n",
       "8   https://www.youtube.com/watch?v=e3PPRdxkAKs&li...  2022-03-01          NaN\n",
       "9   https://www.youtube.com/watch?v=_JYWIcvYA8Q&li...  2022-09-01       다수인원등장\n",
       "10  https://www.youtube.com/watch?v=cDUdX-RYuQg&t=...  2019-10-01          NaN\n",
       "11        https://www.youtube.com/watch?v=yvCP6_pXjAk  2022-07-01         정답영상\n",
       "12  https://www.youtube.com/watch?v=llB_mu2Wz2g&li...  2022-09-01      다수인원 등장\n",
       "13        https://www.youtube.com/watch?v=l2s-xBVCss8  2021-07-01          NaN\n",
       "14        https://www.youtube.com/watch?v=NShIwx-uzO4  2021-03-01          NaN\n",
       "15  https://www.youtube.com/watch?v=eXDuKrw_FpA&li...  2022-08-01    1시간 이상 영상\n",
       "16  https://www.youtube.com/watch?v=_6yWBTnF3vU&t=...  2022-07-01          NaN\n",
       "17        https://www.youtube.com/watch?v=0p1DEMaAeCg  2021-10-01          NaN\n",
       "18        https://www.youtube.com/watch?v=yvCP6_pXjAk  2022-08-01         정답영상"
      ]
     },
     "execution_count": 10,
     "metadata": {},
     "output_type": "execute_result"
    }
   ],
   "source": [
    "df_youtube = toDatetime(df_youtube)\n",
    "df_youtube"
   ]
  },
  {
   "cell_type": "code",
   "execution_count": 12,
   "metadata": {},
   "outputs": [
    {
     "data": {
      "text/plain": [
       "0           https://www.youtube.com/watch?v=fUjuy3xASDc\n",
       "2           https://www.youtube.com/watch?v=JlbEULIZ_Ik\n",
       "4           https://www.youtube.com/watch?v=_GPN_xkf0aA\n",
       "5           https://www.youtube.com/watch?v=zqCPkdN5rik\n",
       "9     https://www.youtube.com/watch?v=_JYWIcvYA8Q&li...\n",
       "11          https://www.youtube.com/watch?v=yvCP6_pXjAk\n",
       "12    https://www.youtube.com/watch?v=llB_mu2Wz2g&li...\n",
       "15    https://www.youtube.com/watch?v=eXDuKrw_FpA&li...\n",
       "16    https://www.youtube.com/watch?v=_6yWBTnF3vU&t=...\n",
       "18          https://www.youtube.com/watch?v=yvCP6_pXjAk\n",
       "Name: link, dtype: object"
      ]
     },
     "execution_count": 12,
     "metadata": {},
     "output_type": "execute_result"
    }
   ],
   "source": []
  },
  {
   "cell_type": "code",
   "execution_count": 16,
   "metadata": {},
   "outputs": [
    {
     "name": "stderr",
     "output_type": "stream",
     "text": [
      "C:\\Users\\max_s\\AppData\\Local\\Temp/ipykernel_11352/4192572731.py:17: DeprecationWarning: executable_path has been deprecated, please pass in a Service object\n",
      "  driver = webdriver.Chrome(executable_path=excutable_path)\n"
     ]
    }
   ],
   "source": [
    "import re\n",
    "import time\n",
    "\n",
    "\n",
    "# brew 로 설치된 chromedriver의 path (Mac)\n",
    "path = '/usr/local/bin/chromedriver'\n",
    "\n",
    "# 윈도우용 크롬 웹드라이버 실행 경로 (Windows)\n",
    "excutable_path = 'chromedriver.exe'\n",
    "\n",
    "\n",
    "# 크롤링할 사이트 주소를 정의합니다.\n",
    "\n",
    "\n",
    "# 크롬 드라이버를 사용합니다 (맥은 첫 줄, 윈도우는 두번째 줄 실행)\n",
    "# driver = webdriver.Chrome(path)\n",
    "driver = webdriver.Chrome(executable_path=excutable_path)"
   ]
  },
  {
   "cell_type": "code",
   "execution_count": 17,
   "metadata": {},
   "outputs": [],
   "source": [
    "start_date = '2022-07-01'\n",
    "urls = df_youtube.loc[df_youtube['upload_date'] >= start_date, 'link'].to_list()"
   ]
  },
  {
   "cell_type": "code",
   "execution_count": 26,
   "metadata": {},
   "outputs": [],
   "source": [
    "player_btn = driver.find_elements(By.XPATH, '//button[@class=\"ytp-fullscreen-button ytp-button\"]')\n",
    "player_btn[0].click()\n",
    "# sleep(0.5)\n",
    "# player_btn[0].click()"
   ]
  },
  {
   "cell_type": "code",
   "execution_count": 49,
   "metadata": {},
   "outputs": [
    {
     "data": {
      "text/plain": [
       "'4:46'"
      ]
     },
     "execution_count": 49,
     "metadata": {},
     "output_type": "execute_result"
    }
   ],
   "source": [
    "\n",
    "total_time = driver.find_element(By.XPATH, '//span[@class=\"ytp-time-duration\"]')\n",
    "dateString = total_time.text #'4:46'\n",
    "dateString"
   ]
  },
  {
   "cell_type": "code",
   "execution_count": 50,
   "metadata": {},
   "outputs": [
    {
     "data": {
      "text/plain": [
       "1661757560.208202"
      ]
     },
     "execution_count": 50,
     "metadata": {},
     "output_type": "execute_result"
    }
   ],
   "source": [
    "from time import time\n",
    "time()"
   ]
  },
  {
   "cell_type": "code",
   "execution_count": 55,
   "metadata": {},
   "outputs": [
    {
     "data": {
      "text/plain": [
       "1661758080"
      ]
     },
     "execution_count": 55,
     "metadata": {},
     "output_type": "execute_result"
    }
   ],
   "source": [
    "if len(dateString) == 4:\n",
    "    tmp_idx = 1\n",
    "elif len(dateString) == 5:\n",
    "    tmp_idx = 2\n",
    "\n",
    "second = (int(dateString[:tmp_idx])*60)+int(dateString[-2:])\n",
    "round(time()+second)"
   ]
  },
  {
   "cell_type": "code",
   "execution_count": 40,
   "metadata": {},
   "outputs": [
    {
     "data": {
      "text/plain": [
       "'4:46'"
      ]
     },
     "execution_count": 40,
     "metadata": {},
     "output_type": "execute_result"
    }
   ],
   "source": [
    "total_time.text"
   ]
  },
  {
   "cell_type": "code",
   "execution_count": 47,
   "metadata": {},
   "outputs": [
    {
     "data": {
      "text/plain": [
       "datetime.time(0, 4, 46)"
      ]
     },
     "execution_count": 47,
     "metadata": {},
     "output_type": "execute_result"
    }
   ],
   "source": [
    "from datetime import datetime\n",
    "\n",
    "dateString = '00:04:46' #'04:46'\n",
    "dateFormatter = \"%H:%M:%S\" \n",
    "datetime.strptime(dateString, dateFormatter).time()"
   ]
  },
  {
   "cell_type": "code",
   "execution_count": 68,
   "metadata": {},
   "outputs": [
    {
     "name": "stdout",
     "output_type": "stream",
     "text": [
      "1661759540\n",
      "1661759599\n"
     ]
    }
   ],
   "source": [
    "\n",
    "\n",
    "driver.get(urls[1])\n",
    "# 기다림\n",
    "wait = WebDriverWait(driver, 10)\n",
    "element = wait.until(EC.element_to_be_clickable((By.ID, 'columns')))\n",
    "\n",
    "player_btn = driver.find_elements(By.XPATH, '//video[@class=\"video-stream html5-main-video\"]')\n",
    "player_btn[0].click()\n",
    "\n",
    "# 총 동영상 길이에 따른 필터링\n",
    "total_time = driver.find_element(By.XPATH, '//span[@class=\"ytp-time-duration\"]')\n",
    "dateString = total_time.text #'4:46' '10:46' '1:00:02'\n",
    "\n",
    "if len(dateString) == 4:\n",
    "    tmp_idx = 1\n",
    "elif len(dateString) == 5:\n",
    "    tmp_idx = 2\n",
    "surplus = 120\n",
    "second = (int(dateString[:tmp_idx])*60)+int(dateString[-2:])\n",
    "total_time = round(time()+second)\n",
    "print(total_time)\n",
    "raw_second = 300\n",
    "\n",
    "raw_totalTime = round(time() + raw_second+surplus)\n",
    "print(raw_totalTime)\n",
    "if total_time > raw_totalTime:\n",
    "    print(\"동일한 영상이 아닙니다(영상길이)\")\n",
    "\n",
    "\n",
    "# 전체화면 \n",
    "fullScreen_btn = driver.find_elements(By.XPATH, '//button[@class=\"ytp-fullscreen-button ytp-button\"]')\n",
    "fullScreen_btn[0].click()\n",
    "\n",
    "\n",
    "# 프레임당 np 값으로 가져오기 반복문 안에 들어가야함\n",
    "screen = pyautogui.screenshot(region = (0, 0, 1920, 1080))\n",
    "screen = np.array(screen)\n",
    "src = cv.cvtColor(screen, cv.COLOR_RGB2BGR)\n",
    "frameUnderTest = np.array(src)\n",
    "\n",
    "\n",
    "# 고객이 나오면 url 수집하고 break\n",
    "\n",
    "# 배우 리스트 나오면 break\n",
    "\n",
    "# 영상이 다 돌면 break "
   ]
  },
  {
   "cell_type": "code",
   "execution_count": null,
   "metadata": {},
   "outputs": [],
   "source": [
    "screen = pyautogui.screenshot(region = (0, 0, 1920, 1080))\n",
    "screen = np.array(screen)\n",
    "src = cv.cvtColor(screen, cv.COLOR_RGB2BGR)\n",
    "frameUnderTest = np.array(src)"
   ]
  }
 ],
 "metadata": {
  "kernelspec": {
   "display_name": "Python 3.9.7 ('base')",
   "language": "python",
   "name": "python3"
  },
  "language_info": {
   "codemirror_mode": {
    "name": "ipython",
    "version": 3
   },
   "file_extension": ".py",
   "mimetype": "text/x-python",
   "name": "python",
   "nbconvert_exporter": "python",
   "pygments_lexer": "ipython3",
   "version": "3.9.7"
  },
  "orig_nbformat": 4,
  "vscode": {
   "interpreter": {
    "hash": "605192d1bf6088d93e0a94bc035f487c9fe861673b2d7b3adeaf97eccf80198f"
   }
  }
 },
 "nbformat": 4,
 "nbformat_minor": 2
}
